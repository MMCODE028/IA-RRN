{
 "cells": [
  {
   "cell_type": "code",
   "execution_count": 1,
   "metadata": {},
   "outputs": [],
   "source": [
    "import io\n",
    "import sys\n",
    "PATH = '/home/epuerta/Academic/AI_DataAnalytics/SLF4SA/'\n",
    "DIR_DATA = '../Academic/AI_DataAnalytics/SLF4SA/data/input/'\n",
    "sys.path.append(PATH) if PATH not in list(sys.path) else None\n",
    "import os\n",
    "import tensorflow as tf\n",
    "import pandas as pd\n",
    "import numpy as np\n",
    "import seaborn as sns\n",
    "from tqdm import tqdm\n",
    "import plotly.express as px\n",
    "import matplotlib.pyplot as plt\n",
    "from collections import Counter\n",
    "from sklearn import preprocessing\n",
    "\n",
    "from sklearn.pipeline import FeatureUnion\n",
    "from tensorflow import keras\n",
    "from keras.layers import Dense\n",
    "from keras.models import Sequential\n",
    "from sklearn.model_selection import RepeatedKFold\n",
    "from sklearn.preprocessing import LabelEncoder, StandardScaler\n",
    "\n",
    "\n",
    "from sklearn.metrics import plot_confusion_matrix\n",
    "from sklearn.feature_selection import SelectKBest, chi2, mutual_info_classif\n",
    "from sklearn.model_selection import StratifiedShuffleSplit, cross_val_score\n",
    "from imblearn.over_sampling import RandomOverSampler\n",
    "from sklearn.feature_extraction.text import CountVectorizer, TfidfVectorizer\n",
    "from sklearn.model_selection import train_test_split, cross_val_score, ShuffleSplit\n",
    "from sklearn.metrics import mean_squared_error, r2_score\n",
    "from sklearn.metrics import classification_report, confusion_matrix, recall_score, log_loss\n",
    "from sklearn.metrics import f1_score, accuracy_score, precision_score\n",
    "\n",
    "from logic.utils import Utils\n",
    "from logic.classifiers import Classifiers\n",
    "from logic.text_processing import TextProcessing\n",
    "from logic.lexical_vectorizer import LexicalVectorizer\n",
    "from root import DIR_RESULTS"
   ]
  },
  {
   "cell_type": "markdown",
   "metadata": {},
   "source": [
    "# Variable initialization "
   ]
  },
  {
   "cell_type": "code",
   "execution_count": 2,
   "metadata": {},
   "outputs": [],
   "source": [
    "lang = 'es'\n",
    "iteration = 10\n",
    "fold = 10\n",
    "classifiers = Classifiers.dict_classifiers\n",
    "tp = TextProcessing(lang=lang)\n",
    "lv = LexicalVectorizer(lang=lang, text_processing=tp)\n",
    "ut = Utils(lang=lang, text_processing=tp)"
   ]
  },
  {
   "cell_type": "markdown",
   "metadata": {},
   "source": [
    "# Import data"
   ]
  },
  {
   "cell_type": "code",
   "execution_count": 3,
   "metadata": {},
   "outputs": [
    {
     "name": "stdout",
     "output_type": "stream",
     "text": [
      "+ Import training...\n",
      "\t\t - Dataset size :(x: 5886 , y: 5886)\n",
      "+ Import test...\n",
      "\t\t - Dataset size :(x: 857 , y: 857)\n"
     ]
    }
   ],
   "source": [
    "print('+ Import training...')\n",
    "x, y = ut.get_data(file_name='tass2020_emotion_train')\n",
    "print('+ Import test...')\n",
    "x_eval, y_eval = ut.get_data(file_name='tass2020_emotion_dev')"
   ]
  },
  {
   "cell_type": "markdown",
   "metadata": {},
   "source": [
    "# Feature extraction"
   ]
  },
  {
   "cell_type": "code",
   "execution_count": 4,
   "metadata": {},
   "outputs": [
    {
     "name": "stdout",
     "output_type": "stream",
     "text": [
      "- train:\n",
      " [('anger ', 600), ('disgust ', 113), ('fear ', 67), ('joy ', 1270), ('others ', 2889), ('sadness ', 706), ('surprise ', 241)]\n",
      "- test: \n",
      " [('anger ', 87), ('disgust ', 16), ('fear ', 10), ('joy ', 185), ('others ', 421), ('sadness ', 103), ('surprise ', 35)]\n"
     ]
    }
   ],
   "source": [
    "x = lv.transform(x)\n",
    "x_eval = lv.transform(x_eval)\n",
    "print('- train:\\n', sorted(Counter(y).items()))\n",
    "print('- test: \\n', sorted(Counter(y_eval).items()))"
   ]
  },
  {
   "cell_type": "markdown",
   "metadata": {},
   "source": [
    "# Over Sampling"
   ]
  },
  {
   "cell_type": "code",
   "execution_count": 5,
   "metadata": {},
   "outputs": [
    {
     "name": "stdout",
     "output_type": "stream",
     "text": [
      "- train:\n",
      " [('anger ', 2023), ('disgust ', 2023), ('fear ', 2023), ('joy ', 2023), ('others ', 2023), ('sadness ', 2023), ('surprise ', 2023)]\n",
      "- test:\n",
      " [('anger ', 866), ('disgust ', 866), ('fear ', 866), ('joy ', 866), ('others ', 866), ('sadness ', 866), ('surprise ', 866)]\n"
     ]
    }
   ],
   "source": [
    "k_fold = ShuffleSplit(n_splits=fold, test_size=0.25, random_state=42)\n",
    "\n",
    "x_train, x_test, y_train, y_test = train_test_split(x, y, test_size=.3, random_state=42)\n",
    "ros_train = RandomOverSampler(random_state=1000)\n",
    "x_train, y_train = ros_train.fit_resample(x_train, y_train)\n",
    "x_test, y_test = ros_train.fit_resample(x_test, y_test)\n",
    "print('- train:\\n', sorted(Counter(y_train).items()))\n",
    "print('- test:\\n', sorted(Counter(y_test).items()))"
   ]
  },
  {
   "cell_type": "code",
   "execution_count": 6,
   "metadata": {},
   "outputs": [],
   "source": [
    "shape = x_train.shape[1:]\n",
    "\n",
    "scaler = StandardScaler()\n",
    "x_train = scaler.fit_transform(x_train)\n",
    "x_test = scaler.transform(x_test)\n",
    "x_eval = scaler.transform(x_eval)"
   ]
  },
  {
   "cell_type": "code",
   "execution_count": 7,
   "metadata": {},
   "outputs": [],
   "source": [
    "lb = LabelEncoder()\n",
    "y_train = lb.fit_transform([i.rstrip() for i in y_train.to_list()])\n",
    "y_eval = lb.transform([i.rstrip() for i in y_eval.to_list()])\n",
    "y_test = lb.transform([i.rstrip() for i in y_test.to_list()])"
   ]
  },
  {
   "cell_type": "code",
   "execution_count": 8,
   "metadata": {},
   "outputs": [
    {
     "data": {
      "text/plain": [
       "array([3, 5, 3, ..., 6, 6, 6])"
      ]
     },
     "execution_count": 8,
     "metadata": {},
     "output_type": "execute_result"
    }
   ],
   "source": [
    "y_train"
   ]
  },
  {
   "cell_type": "markdown",
   "metadata": {},
   "source": [
    "# NN Architecture"
   ]
  },
  {
   "cell_type": "code",
   "execution_count": 9,
   "metadata": {},
   "outputs": [
    {
     "name": "stdout",
     "output_type": "stream",
     "text": [
      "Model: \"sequential\"\n",
      "_________________________________________________________________\n",
      "Layer (type)                 Output Shape              Param #   \n",
      "=================================================================\n",
      "dense (Dense)                (None, 21)                588       \n",
      "_________________________________________________________________\n",
      "dense_1 (Dense)              (None, 14)                308       \n",
      "_________________________________________________________________\n",
      "dense_2 (Dense)              (None, 7)                 105       \n",
      "=================================================================\n",
      "Total params: 1,001\n",
      "Trainable params: 1,001\n",
      "Non-trainable params: 0\n",
      "_________________________________________________________________\n"
     ]
    }
   ],
   "source": [
    "keras.backend.clear_session()\n",
    "np.random.seed(42)\n",
    "tf.random.set_seed(42)\n",
    "\n",
    "model = keras.models.Sequential([keras.layers.Input(shape=shape),\n",
    "                                 keras.layers.Dense(21, activation=\"softmax\"),\n",
    "                                 keras.layers.Dense(14, activation=\"relu\"),\n",
    "                                 keras.layers.Dense(7, activation=\"softmax\")\n",
    "                                ])\n",
    "model.compile(loss=\"sparse_categorical_crossentropy\", optimizer=\"sgd\", metrics=[\"accuracy\"])\n",
    "model.summary()"
   ]
  },
  {
   "cell_type": "markdown",
   "metadata": {},
   "source": [
    "# Training"
   ]
  },
  {
   "cell_type": "code",
   "execution_count": 10,
   "metadata": {},
   "outputs": [
    {
     "name": "stdout",
     "output_type": "stream",
     "text": [
      "Epoch 1/50\n",
      "443/443 [==============================] - 1s 2ms/step - loss: 1.9445 - accuracy: 0.1573 - val_loss: 1.9435 - val_accuracy: 0.1641\n",
      "Epoch 2/50\n",
      "443/443 [==============================] - 1s 1ms/step - loss: 1.9420 - accuracy: 0.1669 - val_loss: 1.9419 - val_accuracy: 0.1671\n",
      "Epoch 3/50\n",
      "443/443 [==============================] - 1s 3ms/step - loss: 1.9402 - accuracy: 0.1760 - val_loss: 1.9407 - val_accuracy: 0.1889\n",
      "Epoch 4/50\n",
      "443/443 [==============================] - 1s 2ms/step - loss: 1.9385 - accuracy: 0.1818 - val_loss: 1.9395 - val_accuracy: 0.1730\n",
      "Epoch 5/50\n",
      "443/443 [==============================] - 1s 1ms/step - loss: 1.9367 - accuracy: 0.1906 - val_loss: 1.9383 - val_accuracy: 0.1956\n",
      "Epoch 6/50\n",
      "443/443 [==============================] - 1s 1ms/step - loss: 1.9349 - accuracy: 0.1881 - val_loss: 1.9369 - val_accuracy: 0.1902\n",
      "Epoch 7/50\n",
      "443/443 [==============================] - 1s 3ms/step - loss: 1.9329 - accuracy: 0.1999 - val_loss: 1.9355 - val_accuracy: 0.1963\n",
      "Epoch 8/50\n",
      "443/443 [==============================] - 1s 2ms/step - loss: 1.9308 - accuracy: 0.1953 - val_loss: 1.9338 - val_accuracy: 0.2004\n",
      "Epoch 9/50\n",
      "443/443 [==============================] - 1s 1ms/step - loss: 1.9286 - accuracy: 0.2123 - val_loss: 1.9322 - val_accuracy: 0.1988\n",
      "Epoch 10/50\n",
      "443/443 [==============================] - 1s 1ms/step - loss: 1.9261 - accuracy: 0.2080 - val_loss: 1.9302 - val_accuracy: 0.1902\n",
      "Epoch 11/50\n",
      "443/443 [==============================] - 1s 2ms/step - loss: 1.9233 - accuracy: 0.2134 - val_loss: 1.9280 - val_accuracy: 0.2016\n",
      "Epoch 12/50\n",
      "443/443 [==============================] - 1s 2ms/step - loss: 1.9202 - accuracy: 0.2171 - val_loss: 1.9254 - val_accuracy: 0.2090\n",
      "Epoch 13/50\n",
      "443/443 [==============================] - 1s 1ms/step - loss: 1.9168 - accuracy: 0.2248 - val_loss: 1.9226 - val_accuracy: 0.1984\n",
      "Epoch 14/50\n",
      "443/443 [==============================] - 1s 1ms/step - loss: 1.9130 - accuracy: 0.2275 - val_loss: 1.9193 - val_accuracy: 0.2145\n",
      "Epoch 15/50\n",
      "443/443 [==============================] - 1s 2ms/step - loss: 1.9082 - accuracy: 0.2330 - val_loss: 1.9156 - val_accuracy: 0.2189\n",
      "Epoch 16/50\n",
      "443/443 [==============================] - 1s 3ms/step - loss: 1.9033 - accuracy: 0.2340 - val_loss: 1.9119 - val_accuracy: 0.2168\n",
      "Epoch 17/50\n",
      "443/443 [==============================] - 1s 1ms/step - loss: 1.8979 - accuracy: 0.2437 - val_loss: 1.9075 - val_accuracy: 0.2054\n",
      "Epoch 18/50\n",
      "443/443 [==============================] - 1s 1ms/step - loss: 1.8921 - accuracy: 0.2371 - val_loss: 1.9026 - val_accuracy: 0.2116\n",
      "Epoch 19/50\n",
      "443/443 [==============================] - 1s 2ms/step - loss: 1.8860 - accuracy: 0.2459 - val_loss: 1.8979 - val_accuracy: 0.2202\n",
      "Epoch 20/50\n",
      "443/443 [==============================] - 1s 3ms/step - loss: 1.8797 - accuracy: 0.2453 - val_loss: 1.8928 - val_accuracy: 0.2042\n",
      "Epoch 21/50\n",
      "443/443 [==============================] - 1s 1ms/step - loss: 1.8734 - accuracy: 0.2452 - val_loss: 1.8881 - val_accuracy: 0.2252\n",
      "Epoch 22/50\n",
      "443/443 [==============================] - 1s 1ms/step - loss: 1.8673 - accuracy: 0.2454 - val_loss: 1.8833 - val_accuracy: 0.2201\n",
      "Epoch 23/50\n",
      "443/443 [==============================] - 1s 2ms/step - loss: 1.8615 - accuracy: 0.2489 - val_loss: 1.8801 - val_accuracy: 0.2176\n",
      "Epoch 24/50\n",
      "443/443 [==============================] - 1s 3ms/step - loss: 1.8564 - accuracy: 0.2532 - val_loss: 1.8759 - val_accuracy: 0.2257\n",
      "Epoch 25/50\n",
      "443/443 [==============================] - 1s 2ms/step - loss: 1.8517 - accuracy: 0.2616 - val_loss: 1.8727 - val_accuracy: 0.2206\n",
      "Epoch 26/50\n",
      "443/443 [==============================] - 1s 1ms/step - loss: 1.8474 - accuracy: 0.2636 - val_loss: 1.8696 - val_accuracy: 0.2252\n",
      "Epoch 27/50\n",
      "443/443 [==============================] - 1s 2ms/step - loss: 1.8434 - accuracy: 0.2629 - val_loss: 1.8673 - val_accuracy: 0.2324\n",
      "Epoch 28/50\n",
      "443/443 [==============================] - 1s 3ms/step - loss: 1.8398 - accuracy: 0.2690 - val_loss: 1.8645 - val_accuracy: 0.2387\n",
      "Epoch 29/50\n",
      "443/443 [==============================] - 1s 2ms/step - loss: 1.8364 - accuracy: 0.2760 - val_loss: 1.8620 - val_accuracy: 0.2319\n",
      "Epoch 30/50\n",
      "443/443 [==============================] - 1s 1ms/step - loss: 1.8333 - accuracy: 0.2786 - val_loss: 1.8605 - val_accuracy: 0.2344\n",
      "Epoch 31/50\n",
      "443/443 [==============================] - 1s 2ms/step - loss: 1.8301 - accuracy: 0.2787 - val_loss: 1.8588 - val_accuracy: 0.2283\n",
      "Epoch 32/50\n",
      "443/443 [==============================] - 1s 3ms/step - loss: 1.8271 - accuracy: 0.2775 - val_loss: 1.8563 - val_accuracy: 0.2286\n",
      "Epoch 33/50\n",
      "443/443 [==============================] - 1s 2ms/step - loss: 1.8241 - accuracy: 0.2835 - val_loss: 1.8548 - val_accuracy: 0.2288\n",
      "Epoch 34/50\n",
      "443/443 [==============================] - 1s 1ms/step - loss: 1.8212 - accuracy: 0.2806 - val_loss: 1.8530 - val_accuracy: 0.2328\n",
      "Epoch 35/50\n",
      "443/443 [==============================] - 1s 1ms/step - loss: 1.8182 - accuracy: 0.2873 - val_loss: 1.8520 - val_accuracy: 0.2425\n",
      "Epoch 36/50\n",
      "443/443 [==============================] - 1s 3ms/step - loss: 1.8153 - accuracy: 0.2876 - val_loss: 1.8503 - val_accuracy: 0.2384\n",
      "Epoch 37/50\n",
      "443/443 [==============================] - 1s 2ms/step - loss: 1.8125 - accuracy: 0.2943 - val_loss: 1.8485 - val_accuracy: 0.2514\n",
      "Epoch 38/50\n",
      "443/443 [==============================] - 1s 1ms/step - loss: 1.8097 - accuracy: 0.2951 - val_loss: 1.8483 - val_accuracy: 0.2479\n",
      "Epoch 39/50\n",
      "443/443 [==============================] - 1s 1ms/step - loss: 1.8069 - accuracy: 0.2932 - val_loss: 1.8456 - val_accuracy: 0.2687\n",
      "Epoch 40/50\n",
      "443/443 [==============================] - 1s 3ms/step - loss: 1.8041 - accuracy: 0.2967 - val_loss: 1.8441 - val_accuracy: 0.2603\n",
      "Epoch 41/50\n",
      "443/443 [==============================] - 1s 2ms/step - loss: 1.8014 - accuracy: 0.3012 - val_loss: 1.8435 - val_accuracy: 0.2469\n",
      "Epoch 42/50\n",
      "443/443 [==============================] - 1s 1ms/step - loss: 1.7986 - accuracy: 0.3002 - val_loss: 1.8417 - val_accuracy: 0.2565\n",
      "Epoch 43/50\n",
      "443/443 [==============================] - 1s 1ms/step - loss: 1.7957 - accuracy: 0.3026 - val_loss: 1.8413 - val_accuracy: 0.2522\n",
      "Epoch 44/50\n",
      "443/443 [==============================] - 1s 2ms/step - loss: 1.7929 - accuracy: 0.3035 - val_loss: 1.8390 - val_accuracy: 0.2669\n",
      "Epoch 45/50\n",
      "443/443 [==============================] - 1s 3ms/step - loss: 1.7901 - accuracy: 0.3037 - val_loss: 1.8384 - val_accuracy: 0.2555\n",
      "Epoch 46/50\n",
      "443/443 [==============================] - 1s 1ms/step - loss: 1.7872 - accuracy: 0.3040 - val_loss: 1.8367 - val_accuracy: 0.2613\n",
      "Epoch 47/50\n",
      "443/443 [==============================] - 1s 1ms/step - loss: 1.7845 - accuracy: 0.3059 - val_loss: 1.8351 - val_accuracy: 0.2610\n",
      "Epoch 48/50\n",
      "443/443 [==============================] - 1s 1ms/step - loss: 1.7817 - accuracy: 0.3104 - val_loss: 1.8348 - val_accuracy: 0.2615\n",
      "Epoch 49/50\n",
      "443/443 [==============================] - 1s 3ms/step - loss: 1.7790 - accuracy: 0.3061 - val_loss: 1.8333 - val_accuracy: 0.2720\n",
      "Epoch 50/50\n",
      "443/443 [==============================] - 1s 2ms/step - loss: 1.7762 - accuracy: 0.3121 - val_loss: 1.8333 - val_accuracy: 0.2737\n"
     ]
    },
    {
     "data": {
      "image/png": "[encoded data removed]",
      "text/plain": [
       "<Figure size 720x360 with 1 Axes>"
      ]
     },
     "metadata": {
      "needs_background": "light"
     },
     "output_type": "display_data"
    }
   ],
   "source": [
    "history = model.fit(x_train, y_train, epochs=50, validation_data=(x_test, y_test))\n",
    "\n",
    "pd.DataFrame(history.history).plot(figsize=(10, 5))\n",
    "plt.grid(True)\n",
    "plt.gca().set_ylim(0, 2)\n",
    "plt.show()"
   ]
  },
  {
   "cell_type": "code",
   "execution_count": 11,
   "metadata": {},
   "outputs": [
    {
     "name": "stdout",
     "output_type": "stream",
     "text": [
      "190/190 [==============================] - 0s 1ms/step - loss: 1.8333 - accuracy: 0.2737\n"
     ]
    },
    {
     "name": "stderr",
     "output_type": "stream",
     "text": [
      "\r",
      "  0%|          | 0/6062 [00:00<?, ?it/s]"
     ]
    },
    {
     "name": "stdout",
     "output_type": "stream",
     "text": [
      "Test Score: 1.8333325386047363\n",
      "Test Accuracy: 0.27367204427719116\n"
     ]
    },
    {
     "name": "stderr",
     "output_type": "stream",
     "text": [
      "100%|██████████| 6062/6062 [06:15<00:00, 16.14it/s]"
     ]
    },
    {
     "name": "stdout",
     "output_type": "stream",
     "text": [
      "Accuracy: 0.27\n",
      "              precision    recall  f1-score   support\n",
      "\n",
      "           0       0.25      0.47      0.33       866\n",
      "           1       0.28      0.36      0.31       866\n",
      "           2       0.30      0.36      0.33       866\n",
      "           3       0.19      0.10      0.13       866\n",
      "           4       0.33      0.30      0.32       866\n",
      "           5       0.25      0.10      0.14       866\n",
      "           6       0.29      0.22      0.25       866\n",
      "\n",
      "    accuracy                           0.27      6062\n",
      "   macro avg       0.27      0.27      0.26      6062\n",
      "weighted avg       0.27      0.27      0.26      6062\n",
      "\n"
     ]
    },
    {
     "name": "stderr",
     "output_type": "stream",
     "text": [
      "\n"
     ]
    }
   ],
   "source": [
    "score = model.evaluate(x_test, y_test, verbose=1)\n",
    "\n",
    "print(\"Test Score:\", score[0])\n",
    "print(\"Test Accuracy:\", score[1])\n",
    "\n",
    "y_predict = []\n",
    "for features in tqdm(x_test):\n",
    "    features = features.reshape(1, -1)\n",
    "    value_prob = model.predict(features)\n",
    "    value = np.argmax(value_prob, axis=1)\n",
    "    y_predict.append(value)\n",
    "\n",
    "accuracy_predict = accuracy_score(y_test, y_predict)\n",
    "print('Accuracy: {0}'.format(round(np.mean(accuracy_predict), 2)))\n",
    "print(classification_report(y_test, y_predict))"
   ]
  },
  {
   "cell_type": "code",
   "execution_count": null,
   "metadata": {},
   "outputs": [],
   "source": []
  }
 ],
 "metadata": {
  "kernelspec": {
   "display_name": "Python 3 (ipykernel)",
   "language": "python",
   "name": "python3"
  },
  "language_info": {
   "codemirror_mode": {
    "name": "ipython",
    "version": 3
   },
   "file_extension": ".py",
   "mimetype": "text/x-python",
   "name": "python",
   "nbconvert_exporter": "python",
   "pygments_lexer": "ipython3",
   "version": "3.9.7"
  }
 },
 "nbformat": 4,
 "nbformat_minor": 4
}
